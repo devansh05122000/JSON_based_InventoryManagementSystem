{
  "nbformat": 4,
  "nbformat_minor": 0,
  "metadata": {
    "colab": {
      "name": "InventoryManagementSystem.ipynb",
      "provenance": [],
      "collapsed_sections": []
    },
    "kernelspec": {
      "name": "python3",
      "display_name": "Python 3"
    },
    "language_info": {
      "name": "python"
    }
  },
  "cells": [
    {
      "cell_type": "code",
      "metadata": {
        "id": "blVqOjZKjBHD"
      },
      "source": [
        "import json"
      ],
      "execution_count": 56,
      "outputs": []
    },
    {
      "cell_type": "code",
      "metadata": {
        "id": "P9Z-z_sa1aBD"
      },
      "source": [
        "fd = open(\"Record.json\",'r')\n",
        "data = fd.read()\n",
        "fd.close()"
      ],
      "execution_count": 57,
      "outputs": []
    },
    {
      "cell_type": "code",
      "metadata": {
        "id": "cTofgnHi1lK4"
      },
      "source": [
        "RecordData = json.loads(data)"
      ],
      "execution_count": 58,
      "outputs": []
    },
    {
      "cell_type": "code",
      "metadata": {
        "colab": {
          "base_uri": "https://localhost:8080/"
        },
        "id": "BK85Ekn61pdN",
        "outputId": "9a453645-23d6-4e73-93cf-5f97157fcfe9"
      },
      "source": [
        "RecordData"
      ],
      "execution_count": 59,
      "outputs": [
        {
          "output_type": "execute_result",
          "data": {
            "text/plain": [
              "{'101': {'body': 'plastic',\n",
              "  'comp': 'cello',\n",
              "  'name': 'pen',\n",
              "  'pr': 10,\n",
              "  'qn': 30},\n",
              " '102': {'body': 'graphite',\n",
              "  'comp': 'apsara',\n",
              "  'name': 'pencil',\n",
              "  'pr': 5,\n",
              "  'qn': 30},\n",
              " '103': {'body': 'rubber',\n",
              "  'comp': 'apsara',\n",
              "  'name': 'eraser',\n",
              "  'pr': 5,\n",
              "  'qn': 30},\n",
              " '104': {'body': 'plastic',\n",
              "  'comp': 'natraj',\n",
              "  'name': 'scale',\n",
              "  'pr': 5,\n",
              "  'qn': 30},\n",
              " '105': {'body': 'metal',\n",
              "  'comp': 'camlin',\n",
              "  'name': 'stapler',\n",
              "  'pr': 20,\n",
              "  'qn': 30},\n",
              " '106': {'body': 'tape',\n",
              "  'comp': 'camlin',\n",
              "  'name': 'cello tape',\n",
              "  'pr': 5,\n",
              "  'qn': 30},\n",
              " '107': {'body': 'book',\n",
              "  'comp': 'classmate',\n",
              "  'name': 'notebook',\n",
              "  'pr': 30,\n",
              "  'qn': 30},\n",
              " '108': {'body': 'plastic',\n",
              "  'comp': 'apsara',\n",
              "  'name': 'folder',\n",
              "  'pr': 30,\n",
              "  'qn': 30},\n",
              " '109': {'body': 'metal',\n",
              "  'comp': 'natraj',\n",
              "  'name': 'compass',\n",
              "  'pr': 20,\n",
              "  'qn': 30},\n",
              " '110': {'body': 'plastic',\n",
              "  'comp': 'camlin',\n",
              "  'name': 'geometry box',\n",
              "  'pr': 40,\n",
              "  'qn': 30},\n",
              " '111': {'body': 'leather',\n",
              "  'comp': 'lenovo',\n",
              "  'name': 'school bag',\n",
              "  'pr': 200,\n",
              "  'qn': 30},\n",
              " '112': {'body': 'book',\n",
              "  'comp': 'camlin',\n",
              "  'name': 'practical file',\n",
              "  'pr': 40,\n",
              "  'qn': 30},\n",
              " '113': {'body': 'book',\n",
              "  'comp': 'camlin',\n",
              "  'name': 'lab manual',\n",
              "  'pr': 250,\n",
              "  'qn': 30},\n",
              " '114': {'body': 'board',\n",
              "  'comp': 'camlin',\n",
              "  'name': 'blackboard',\n",
              "  'pr': 200,\n",
              "  'qn': 30},\n",
              " '115': {'body': 'board',\n",
              "  'comp': 'camlin',\n",
              "  'name': 'whiteboard',\n",
              "  'pr': 200,\n",
              "  'qn': 30},\n",
              " '116': {'body': 'plastic',\n",
              "  'comp': 'apsara',\n",
              "  'name': 'sketchpen',\n",
              "  'pr': 30,\n",
              "  'qn': 30},\n",
              " '117': {'body': 'wax',\n",
              "  'comp': 'camlin',\n",
              "  'name': 'crayons',\n",
              "  'pr': 15,\n",
              "  'qn': 30},\n",
              " '118': {'body': 'graphite',\n",
              "  'comp': 'apsara',\n",
              "  'name': 'pencil colours',\n",
              "  'pr': 20,\n",
              "  'qn': 30},\n",
              " '119': {'body': 'powder',\n",
              "  'comp': 'apsara',\n",
              "  'name': 'chalk',\n",
              "  'pr': 10,\n",
              "  'qn': 30},\n",
              " '120': {'body': 'plastic',\n",
              "  'comp': 'apsara',\n",
              "  'name': 'duster',\n",
              "  'pr': 20,\n",
              "  'qn': 30},\n",
              " '121': {'body': 'plastic',\n",
              "  'comp': 'natraj',\n",
              "  'name': 'sharpner',\n",
              "  'pr': 5,\n",
              "  'qn': 30},\n",
              " '122': {'body': 'plastic',\n",
              "  'comp': 'cello',\n",
              "  'name': 'marker',\n",
              "  'pr': 20,\n",
              "  'qn': 30},\n",
              " '123': {'body': 'gum', 'comp': 'fevicol', 'name': 'glue', 'pr': 10, 'qn': 30},\n",
              " '124': {'body': 'paper',\n",
              "  'comp': 'camlin',\n",
              "  'name': 'chart',\n",
              "  'pr': 5,\n",
              "  'qn': 30},\n",
              " '125': {'body': 'paper', 'comp': 'camlin', 'name': 'map', 'pr': 2, 'qn': 30},\n",
              " '126': {'body': 'metal',\n",
              "  'comp': 'camlin',\n",
              "  'name': 'protector',\n",
              "  'pr': 15,\n",
              "  'qn': 30},\n",
              " '127': {'body': 'board',\n",
              "  'comp': 'camlin',\n",
              "  'name': 'cardboard',\n",
              "  'pr': 40,\n",
              "  'qn': 30},\n",
              " '128': {'body': 'paper',\n",
              "  'comp': 'apsara',\n",
              "  'name': 'ruled sheets',\n",
              "  'pr': 20,\n",
              "  'qn': 30},\n",
              " '129': {'body': 'plastic',\n",
              "  'comp': 'cello',\n",
              "  'name': 'punching machine',\n",
              "  'pr': 30,\n",
              "  'qn': 30},\n",
              " '130': {'body': 'paper',\n",
              "  'comp': 'camlin',\n",
              "  'name': 'plane sheets',\n",
              "  'pr': 30,\n",
              "  'qn': 30}}"
            ]
          },
          "metadata": {},
          "execution_count": 59
        }
      ]
    },
    {
      "cell_type": "code",
      "metadata": {
        "id": "XgR80xmt2Dmt",
        "colab": {
          "base_uri": "https://localhost:8080/"
        },
        "outputId": "e3581e6d-5f31-4e0f-9854-28b0f5194de0"
      },
      "source": [
        "print(RecordData['101'])"
      ],
      "execution_count": 61,
      "outputs": [
        {
          "output_type": "stream",
          "name": "stdout",
          "text": [
            "{'name': 'pen', 'qn': 30, 'pr': 10, 'comp': 'cello', 'body': 'plastic'}\n"
          ]
        }
      ]
    },
    {
      "cell_type": "code",
      "metadata": {
        "colab": {
          "base_uri": "https://localhost:8080/"
        },
        "id": "41uIQnvA_pWY",
        "outputId": "3eff80eb-ac47-4437-a1cf-6a7b6b1f2d8e"
      },
      "source": [
        "print(RecordData)"
      ],
      "execution_count": 62,
      "outputs": [
        {
          "output_type": "stream",
          "name": "stdout",
          "text": [
            "{'101': {'name': 'pen', 'qn': 30, 'pr': 10, 'comp': 'cello', 'body': 'plastic'}, '102': {'name': 'pencil', 'qn': 30, 'pr': 5, 'comp': 'apsara', 'body': 'graphite'}, '103': {'name': 'eraser', 'qn': 30, 'pr': 5, 'comp': 'apsara', 'body': 'rubber'}, '104': {'name': 'scale', 'qn': 30, 'pr': 5, 'comp': 'natraj', 'body': 'plastic'}, '105': {'name': 'stapler', 'qn': 30, 'pr': 20, 'comp': 'camlin', 'body': 'metal'}, '106': {'name': 'cello tape', 'qn': 30, 'pr': 5, 'comp': 'camlin', 'body': 'tape'}, '107': {'name': 'notebook', 'qn': 30, 'pr': 30, 'comp': 'classmate', 'body': 'book'}, '108': {'name': 'folder', 'qn': 30, 'pr': 30, 'comp': 'apsara', 'body': 'plastic'}, '109': {'name': 'compass', 'qn': 30, 'pr': 20, 'comp': 'natraj', 'body': 'metal'}, '110': {'name': 'geometry box', 'qn': 30, 'pr': 40, 'comp': 'camlin', 'body': 'plastic'}, '111': {'name': 'school bag', 'qn': 30, 'pr': 200, 'comp': 'lenovo', 'body': 'leather'}, '112': {'name': 'practical file', 'qn': 30, 'pr': 40, 'comp': 'camlin', 'body': 'book'}, '113': {'name': 'lab manual', 'qn': 30, 'pr': 250, 'comp': 'camlin', 'body': 'book'}, '114': {'name': 'blackboard', 'qn': 30, 'pr': 200, 'comp': 'camlin', 'body': 'board'}, '115': {'name': 'whiteboard', 'qn': 30, 'pr': 200, 'comp': 'camlin', 'body': 'board'}, '116': {'name': 'sketchpen', 'qn': 30, 'pr': 30, 'comp': 'apsara', 'body': 'plastic'}, '117': {'name': 'crayons', 'qn': 30, 'pr': 15, 'comp': 'camlin', 'body': 'wax'}, '118': {'name': 'pencil colours', 'qn': 30, 'pr': 20, 'comp': 'apsara', 'body': 'graphite'}, '119': {'name': 'chalk', 'qn': 30, 'pr': 10, 'comp': 'apsara', 'body': 'powder'}, '120': {'name': 'duster', 'qn': 30, 'pr': 20, 'comp': 'apsara', 'body': 'plastic'}, '121': {'name': 'sharpner', 'qn': 30, 'pr': 5, 'comp': 'natraj', 'body': 'plastic'}, '122': {'name': 'marker', 'qn': 30, 'pr': 20, 'comp': 'cello', 'body': 'plastic'}, '123': {'name': 'glue', 'qn': 30, 'pr': 10, 'comp': 'fevicol', 'body': 'gum'}, '124': {'name': 'chart', 'qn': 30, 'pr': 5, 'comp': 'camlin', 'body': 'paper'}, '125': {'name': 'map', 'qn': 30, 'pr': 2, 'comp': 'camlin', 'body': 'paper'}, '126': {'name': 'protector', 'qn': 30, 'pr': 15, 'comp': 'camlin', 'body': 'metal'}, '127': {'name': 'cardboard', 'qn': 30, 'pr': 40, 'comp': 'camlin', 'body': 'board'}, '128': {'name': 'ruled sheets', 'qn': 30, 'pr': 20, 'comp': 'apsara', 'body': 'paper'}, '129': {'name': 'punching machine', 'qn': 30, 'pr': 30, 'comp': 'cello', 'body': 'plastic'}, '130': {'name': 'plane sheets', 'qn': 30, 'pr': 30, 'comp': 'camlin', 'body': 'paper'}}\n"
          ]
        }
      ]
    },
    {
      "cell_type": "code",
      "metadata": {
        "colab": {
          "base_uri": "https://localhost:8080/"
        },
        "id": "PkpnuYSbfoGK",
        "outputId": "8b3fd8a0-76de-4203-9c26-15041dd7bc2b"
      },
      "source": [
        "userId = str(input(\"enter the product id you want to purchase: \" ))\n",
        "for i in RecordData:\n",
        "  if(i==userId):\n",
        "    print(\"-----------------------\")\n",
        "    print(\"Product Name: \", RecordData[i][\"name\"])\n",
        "    print(\"Quantity of the product present: \", RecordData[i][\"qn\"])\n",
        "    print(\"Price per Piece: \", RecordData[i][\"pr\"])\n",
        "    print(\"Company: \", RecordData[i][\"comp\"])\n",
        "    print(\"Body Type: \", RecordData[i][\"body\"])\n",
        "    print(\"-----------------------\")\n",
        "    bill = int(RecordData[i][\"pr\"])\n",
        "    break;\n",
        "else:\n",
        "    print(\"Entered Id not Found\")\n",
        "\n",
        "UserQn = int(input(\"enter the quantity of this product you want to purchase: \"))\n",
        "print(\"------------\")\n",
        "print(\"You entered \", UserQn, \" number of this item to purchase\")\n",
        "if(RecordData[userId]['qn'] > UserQn):\n",
        "  print(\"your bill for this wishlist is Rs.\", bill*UserQn)\n",
        "  RecordData[userId]['qn'] -= UserQn\n",
        "else:\n",
        "  print(\"sorry, we doesn't have that much quantity!\")\n",
        "\n",
        "js = json.dumps(RecordData)\n",
        "\n",
        "fd = open(\"Record.json\",\"w\")\n",
        "fd.write(js)\n",
        "fd.close()"
      ],
      "execution_count": 89,
      "outputs": [
        {
          "output_type": "stream",
          "name": "stdout",
          "text": [
            "enter the product id you want to purchase: 104\n",
            "-----------------------\n",
            "Product Name:  scale\n",
            "Quantity of the product present:  30\n",
            "Price per Piece:  5\n",
            "Company:  natraj\n",
            "Body Type:  plastic\n",
            "-----------------------\n",
            "enter the quantity of this product you want to purchase: 1\n",
            "------------\n",
            "You entered  1  number of this item to purchase\n",
            "your bill for this wishlist is Rs. 5\n"
          ]
        }
      ]
    },
    {
      "cell_type": "code",
      "metadata": {
        "colab": {
          "base_uri": "https://localhost:8080/"
        },
        "id": "Dxgur-xVgSnw",
        "outputId": "6fdbdbe3-168e-46ed-d3ac-a3634a9a871b"
      },
      "source": [
        "sd = open(\"Record.json\",\"r\")\n",
        "NewData = sd.read()\n",
        "sd.close()\n",
        "\n",
        "SaleData = json.loads(NewData)\n",
        "\n",
        "prodId = str(input(\"Enter the product id you want to add in the store: \"))\n",
        "\n",
        "for j in SaleData:\n",
        "  if(prodId == j):\n",
        "    userQn = input(\"This id is already present so tell me how many quantity you want to add: \")\n",
        "    SaleData[prodId]['qn'] += userQn\n",
        "else:\n",
        "  print(\"this is the new Item in the shop you want to add kindly tell me the details\")\n",
        "  UserName = input(\"enter the Name of the new Product: \")\n",
        "  UserQN = input(\"enter the quantity of the new Product: \")\n",
        "  UserPrice = input(\"enter the price of the new Product: \")\n",
        "  UserComp = input(\"enter the company of the new Product: \")\n",
        "  UserBody = input(\"enter the body type of the new Product: \")\n",
        "  SaleData[prodId] = {\"name\": UserName, \"qn\": UserQn, \"pr\": UserPrice, \"comp\": UserComp, \"body\": UserBody}\n",
        "  \n",
        "jss = json.dumps(SaleData)\n",
        "\n",
        "sd = open(\"Record.json\", \"w\")\n",
        "sd.write(jss)\n",
        "sd.close()\n"
      ],
      "execution_count": 91,
      "outputs": [
        {
          "name": "stdout",
          "output_type": "stream",
          "text": [
            "Enter the product id you want to add in the store: 131\n",
            "this is the new Item in the shop you want to add kindly tell me the details\n",
            "enter the Name of the new Product: stapler pin\n",
            "enter the quantity of the new Product: 30\n",
            "enter the price of the new Product: 5\n",
            "enter the company of the new Product: camlin\n",
            "enter the body type of the new Product: metal\n"
          ]
        }
      ]
    },
    {
      "cell_type": "code",
      "metadata": {
        "colab": {
          "base_uri": "https://localhost:8080/"
        },
        "id": "5lcw9DGcrmpn",
        "outputId": "49df6b14-4692-464e-d042-6c42d717a52b"
      },
      "source": [
        "SaleData"
      ],
      "execution_count": 92,
      "outputs": [
        {
          "output_type": "execute_result",
          "data": {
            "text/plain": [
              "{'101': {'body': 'plastic',\n",
              "  'comp': 'cello',\n",
              "  'name': 'pen',\n",
              "  'pr': 10,\n",
              "  'qn': 30},\n",
              " '102': {'body': 'graphite',\n",
              "  'comp': 'apsara',\n",
              "  'name': 'pencil',\n",
              "  'pr': 5,\n",
              "  'qn': 30},\n",
              " '103': {'body': 'rubber',\n",
              "  'comp': 'apsara',\n",
              "  'name': 'eraser',\n",
              "  'pr': 5,\n",
              "  'qn': 30},\n",
              " '104': {'body': 'plastic',\n",
              "  'comp': 'natraj',\n",
              "  'name': 'scale',\n",
              "  'pr': 5,\n",
              "  'qn': 29},\n",
              " '105': {'body': 'metal',\n",
              "  'comp': 'camlin',\n",
              "  'name': 'stapler',\n",
              "  'pr': 20,\n",
              "  'qn': 30},\n",
              " '106': {'body': 'tape',\n",
              "  'comp': 'camlin',\n",
              "  'name': 'cello tape',\n",
              "  'pr': 5,\n",
              "  'qn': 30},\n",
              " '107': {'body': 'book',\n",
              "  'comp': 'classmate',\n",
              "  'name': 'notebook',\n",
              "  'pr': 30,\n",
              "  'qn': 29},\n",
              " '108': {'body': 'plastic',\n",
              "  'comp': 'apsara',\n",
              "  'name': 'folder',\n",
              "  'pr': 30,\n",
              "  'qn': 30},\n",
              " '109': {'body': 'metal',\n",
              "  'comp': 'natraj',\n",
              "  'name': 'compass',\n",
              "  'pr': 20,\n",
              "  'qn': 30},\n",
              " '110': {'body': 'plastic',\n",
              "  'comp': 'camlin',\n",
              "  'name': 'geometry box',\n",
              "  'pr': 40,\n",
              "  'qn': 30},\n",
              " '111': {'body': 'leather',\n",
              "  'comp': 'lenovo',\n",
              "  'name': 'school bag',\n",
              "  'pr': 200,\n",
              "  'qn': 30},\n",
              " '112': {'body': 'book',\n",
              "  'comp': 'camlin',\n",
              "  'name': 'practical file',\n",
              "  'pr': 40,\n",
              "  'qn': 30},\n",
              " '113': {'body': 'book',\n",
              "  'comp': 'camlin',\n",
              "  'name': 'lab manual',\n",
              "  'pr': 250,\n",
              "  'qn': 30},\n",
              " '114': {'body': 'board',\n",
              "  'comp': 'camlin',\n",
              "  'name': 'blackboard',\n",
              "  'pr': 200,\n",
              "  'qn': 30},\n",
              " '115': {'body': 'board',\n",
              "  'comp': 'camlin',\n",
              "  'name': 'whiteboard',\n",
              "  'pr': 200,\n",
              "  'qn': 30},\n",
              " '116': {'body': 'plastic',\n",
              "  'comp': 'apsara',\n",
              "  'name': 'sketchpen',\n",
              "  'pr': 30,\n",
              "  'qn': 30},\n",
              " '117': {'body': 'wax',\n",
              "  'comp': 'camlin',\n",
              "  'name': 'crayons',\n",
              "  'pr': 15,\n",
              "  'qn': 30},\n",
              " '118': {'body': 'graphite',\n",
              "  'comp': 'apsara',\n",
              "  'name': 'pencil colours',\n",
              "  'pr': 20,\n",
              "  'qn': 30},\n",
              " '119': {'body': 'powder',\n",
              "  'comp': 'apsara',\n",
              "  'name': 'chalk',\n",
              "  'pr': 10,\n",
              "  'qn': 30},\n",
              " '120': {'body': 'plastic',\n",
              "  'comp': 'apsara',\n",
              "  'name': 'duster',\n",
              "  'pr': 20,\n",
              "  'qn': 30},\n",
              " '121': {'body': 'plastic',\n",
              "  'comp': 'natraj',\n",
              "  'name': 'sharpner',\n",
              "  'pr': 5,\n",
              "  'qn': 30},\n",
              " '122': {'body': 'plastic',\n",
              "  'comp': 'cello',\n",
              "  'name': 'marker',\n",
              "  'pr': 20,\n",
              "  'qn': 30},\n",
              " '123': {'body': 'gum', 'comp': 'fevicol', 'name': 'glue', 'pr': 10, 'qn': 30},\n",
              " '124': {'body': 'paper',\n",
              "  'comp': 'camlin',\n",
              "  'name': 'chart',\n",
              "  'pr': 5,\n",
              "  'qn': 30},\n",
              " '125': {'body': 'paper', 'comp': 'camlin', 'name': 'map', 'pr': 2, 'qn': 30},\n",
              " '126': {'body': 'metal',\n",
              "  'comp': 'camlin',\n",
              "  'name': 'protector',\n",
              "  'pr': 15,\n",
              "  'qn': 30},\n",
              " '127': {'body': 'board',\n",
              "  'comp': 'camlin',\n",
              "  'name': 'cardboard',\n",
              "  'pr': 40,\n",
              "  'qn': 30},\n",
              " '128': {'body': 'paper',\n",
              "  'comp': 'apsara',\n",
              "  'name': 'ruled sheets',\n",
              "  'pr': 20,\n",
              "  'qn': 30},\n",
              " '129': {'body': 'plastic',\n",
              "  'comp': 'cello',\n",
              "  'name': 'punching machine',\n",
              "  'pr': 30,\n",
              "  'qn': 30},\n",
              " '130': {'body': 'paper',\n",
              "  'comp': 'camlin',\n",
              "  'name': 'plane sheets',\n",
              "  'pr': 30,\n",
              "  'qn': 30},\n",
              " '131': {'body': 'metal',\n",
              "  'comp': 'camlin',\n",
              "  'name': 'stapler pin',\n",
              "  'pr': '5',\n",
              "  'qn': 1}}"
            ]
          },
          "metadata": {},
          "execution_count": 92
        }
      ]
    },
    {
      "cell_type": "code",
      "metadata": {
        "id": "W_fBikP344Mm"
      },
      "source": [
        ""
      ],
      "execution_count": null,
      "outputs": []
    }
  ]
}